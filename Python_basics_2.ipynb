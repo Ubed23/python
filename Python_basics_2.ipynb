{
  "nbformat": 4,
  "nbformat_minor": 0,
  "metadata": {
    "colab": {
      "provenance": [],
      "toc_visible": true
    },
    "kernelspec": {
      "name": "python3",
      "display_name": "Python 3"
    },
    "language_info": {
      "name": "python"
    }
  },
  "cells": [
    {
      "cell_type": "code",
      "execution_count": 1,
      "metadata": {
        "colab": {
          "base_uri": "https://localhost:8080/"
        },
        "id": "6l9fUtO02L7B",
        "outputId": "44adf3c0-0ff8-4bc9-f972-e92d0c80aac7"
      },
      "outputs": [
        {
          "output_type": "stream",
          "name": "stdout",
          "text": [
            "enter the salary50000\n",
            "Hello from true if\n",
            "Bye.., outside of if block\n",
            "net salary is: 37500.0\n"
          ]
        }
      ],
      "source": [
        "salary=int(input(\"enter the salary\"))\n",
        "if(salary>25000):\n",
        "  tax=0.25\n",
        "  print(\"Hello from true if\")\n",
        "else:\n",
        "  tax=0.20\n",
        "  print(\"hello from false if/else\")\n",
        "print(\"Bye.., outside of if block\")\n",
        "net_sal=salary-salary*tax\n",
        "print(\"net salary is:\",net_sal)"
      ]
    },
    {
      "cell_type": "code",
      "source": [
        "#elif - multiple conditions\n",
        "num=int(input(\"enter a number\"))\n",
        "if num>0:\n",
        "  print(num,\"is positive\")\n",
        "elif num==0:\n",
        "  print(num,\"is zero\")\n",
        "else:\n",
        "  print(num,\"is negative\")"
      ],
      "metadata": {
        "colab": {
          "base_uri": "https://localhost:8080/"
        },
        "id": "7BNaihYrPpfx",
        "outputId": "f8f8dc0b-1dec-42f5-b551-6bd3761512a7"
      },
      "execution_count": 75,
      "outputs": [
        {
          "output_type": "stream",
          "name": "stdout",
          "text": [
            "enter a number-5\n",
            "-5 is negative\n"
          ]
        }
      ]
    },
    {
      "cell_type": "code",
      "source": [
        "marks=int(input('enter the marks:'))\n",
        "marks"
      ],
      "metadata": {
        "colab": {
          "base_uri": "https://localhost:8080/"
        },
        "id": "SPI8FTW0QtOT",
        "outputId": "b44edfd7-ff8b-4e5d-9639-2b43d73f2fb8"
      },
      "execution_count": 78,
      "outputs": [
        {
          "name": "stdout",
          "output_type": "stream",
          "text": [
            "enter the marks:55\n"
          ]
        },
        {
          "output_type": "execute_result",
          "data": {
            "text/plain": [
              "55"
            ]
          },
          "metadata": {},
          "execution_count": 78
        }
      ]
    },
    {
      "cell_type": "code",
      "source": [
        "marks+10"
      ],
      "metadata": {
        "colab": {
          "base_uri": "https://localhost:8080/"
        },
        "id": "byswbFRnRGIJ",
        "outputId": "b01b507d-3775-4ac9-856f-213e718a0043"
      },
      "execution_count": 79,
      "outputs": [
        {
          "output_type": "execute_result",
          "data": {
            "text/plain": [
              "65"
            ]
          },
          "metadata": {},
          "execution_count": 79
        }
      ]
    },
    {
      "cell_type": "code",
      "source": [
        "for num in range(1,20):\n",
        "  print (\"hello world\")"
      ],
      "metadata": {
        "colab": {
          "base_uri": "https://localhost:8080/"
        },
        "id": "sq7noX-P3-M5",
        "outputId": "2f5780a5-3d9b-45b4-c272-e4a4aa15a781"
      },
      "execution_count": 3,
      "outputs": [
        {
          "output_type": "stream",
          "name": "stdout",
          "text": [
            "hello world\n",
            "hello world\n",
            "hello world\n",
            "hello world\n",
            "hello world\n",
            "hello world\n",
            "hello world\n",
            "hello world\n",
            "hello world\n",
            "hello world\n",
            "hello world\n",
            "hello world\n",
            "hello world\n",
            "hello world\n",
            "hello world\n",
            "hello world\n",
            "hello world\n",
            "hello world\n",
            "hello world\n"
          ]
        }
      ]
    },
    {
      "cell_type": "code",
      "source": [
        "for i in range(5,10):\n",
        "  print(i)\n",
        "print(\"bye\")\n"
      ],
      "metadata": {
        "colab": {
          "base_uri": "https://localhost:8080/"
        },
        "id": "3cuQfyd_5d8I",
        "outputId": "f346d8e7-01e7-4308-cd51-3f464513daf1"
      },
      "execution_count": 6,
      "outputs": [
        {
          "output_type": "stream",
          "name": "stdout",
          "text": [
            "5\n",
            "6\n",
            "7\n",
            "8\n",
            "9\n",
            "bye\n"
          ]
        }
      ]
    },
    {
      "cell_type": "code",
      "source": [
        "for i in range(1,11,2):\n",
        "  print(i)"
      ],
      "metadata": {
        "colab": {
          "base_uri": "https://localhost:8080/"
        },
        "id": "MR9uTUxt5rxN",
        "outputId": "d086e436-1818-4808-8b49-1b99bca89861"
      },
      "execution_count": 8,
      "outputs": [
        {
          "output_type": "stream",
          "name": "stdout",
          "text": [
            "1\n",
            "3\n",
            "5\n",
            "7\n",
            "9\n"
          ]
        }
      ]
    },
    {
      "cell_type": "code",
      "source": [
        "for i in range(2,11,2):\n",
        "  print(i)"
      ],
      "metadata": {
        "colab": {
          "base_uri": "https://localhost:8080/"
        },
        "id": "O8oaYKES6r8l",
        "outputId": "f164c99a-2423-4215-bea4-3ed84f96944e"
      },
      "execution_count": 10,
      "outputs": [
        {
          "output_type": "stream",
          "name": "stdout",
          "text": [
            "2\n",
            "4\n",
            "6\n",
            "8\n",
            "10\n"
          ]
        }
      ]
    },
    {
      "cell_type": "code",
      "source": [
        "for i in range(1,11):\n",
        "  if i==6:\n",
        "    print(\"that's enough\")\n",
        "    break\n",
        "  else:\n",
        "    print(i)\n"
      ],
      "metadata": {
        "colab": {
          "base_uri": "https://localhost:8080/"
        },
        "id": "yjrE3WGr6_PU",
        "outputId": "de4f1a04-c4d3-4c92-f887-95eb7bd50a8b"
      },
      "execution_count": 11,
      "outputs": [
        {
          "output_type": "stream",
          "name": "stdout",
          "text": [
            "1\n",
            "2\n",
            "3\n",
            "4\n",
            "5\n",
            "that's enough\n"
          ]
        }
      ]
    },
    {
      "cell_type": "code",
      "source": [
        "for num in range(11):\n",
        "  print(num,num**2)"
      ],
      "metadata": {
        "colab": {
          "base_uri": "https://localhost:8080/"
        },
        "id": "HmrCXxW68kih",
        "outputId": "187061e8-c4f3-4134-abb0-2e98c5053bd8"
      },
      "execution_count": 12,
      "outputs": [
        {
          "output_type": "stream",
          "name": "stdout",
          "text": [
            "0 0\n",
            "1 1\n",
            "2 4\n",
            "3 9\n",
            "4 16\n",
            "5 25\n",
            "6 36\n",
            "7 49\n",
            "8 64\n",
            "9 81\n",
            "10 100\n"
          ]
        }
      ]
    },
    {
      "cell_type": "code",
      "source": [
        "for i in range(1,31,5):\n",
        "  print(i,\"@\")"
      ],
      "metadata": {
        "colab": {
          "base_uri": "https://localhost:8080/"
        },
        "id": "duuh2PEr81ic",
        "outputId": "524fa560-4cb9-4e6f-bfbd-6efb89aae54c"
      },
      "execution_count": 13,
      "outputs": [
        {
          "output_type": "stream",
          "name": "stdout",
          "text": [
            "1 @\n",
            "6 @\n",
            "11 @\n",
            "16 @\n",
            "21 @\n",
            "26 @\n"
          ]
        }
      ]
    },
    {
      "cell_type": "code",
      "source": [
        "sub=\"Data Science\"\n",
        "for i in sub:\n",
        "  print(i)"
      ],
      "metadata": {
        "colab": {
          "base_uri": "https://localhost:8080/"
        },
        "id": "EUL2ddHI9NeG",
        "outputId": "d3bf32a7-d3bc-4210-8634-393548e41e3c"
      },
      "execution_count": 14,
      "outputs": [
        {
          "output_type": "stream",
          "name": "stdout",
          "text": [
            "D\n",
            "a\n",
            "t\n",
            "a\n",
            " \n",
            "S\n",
            "c\n",
            "i\n",
            "e\n",
            "n\n",
            "c\n",
            "e\n"
          ]
        }
      ]
    },
    {
      "cell_type": "code",
      "source": [
        "name=\"muddu\"\n",
        "for i in range(4,8):\n",
        "  print(name*i)"
      ],
      "metadata": {
        "colab": {
          "base_uri": "https://localhost:8080/"
        },
        "id": "rUjmaA1A-QmG",
        "outputId": "b7610081-e67a-4b8c-8779-c184d0d7c410"
      },
      "execution_count": 17,
      "outputs": [
        {
          "output_type": "stream",
          "name": "stdout",
          "text": [
            "muddumuddumuddumuddu\n",
            "muddumuddumuddumuddumuddu\n",
            "muddumuddumuddumuddumuddumuddu\n",
            "muddumuddumuddumuddumuddumuddumuddu\n"
          ]
        }
      ]
    },
    {
      "cell_type": "code",
      "source": [
        "name=\"ubed\"\n",
        "for i in range(3,7):\n",
        "  print((name + \" \")*i)\n"
      ],
      "metadata": {
        "colab": {
          "base_uri": "https://localhost:8080/"
        },
        "id": "r0dIKLAK9hiL",
        "outputId": "647fc008-fb57-412f-ceee-08b9a3a7ee9e"
      },
      "execution_count": 16,
      "outputs": [
        {
          "output_type": "stream",
          "name": "stdout",
          "text": [
            "ubed ubed ubed \n",
            "ubed ubed ubed ubed \n",
            "ubed ubed ubed ubed ubed \n",
            "ubed ubed ubed ubed ubed ubed \n"
          ]
        }
      ]
    },
    {
      "cell_type": "code",
      "source": [
        "movie=\"BaHuBaLi\"\n",
        "for letter in movie:\n",
        "  print(letter)\n",
        "  print(letter.swapcase())\n",
        "  print(letter.swapcase(),end=\"..*..\")"
      ],
      "metadata": {
        "colab": {
          "base_uri": "https://localhost:8080/"
        },
        "id": "qN_NmJFT-5zI",
        "outputId": "7724157c-6be3-4a8b-b0d2-d346396c874b"
      },
      "execution_count": 20,
      "outputs": [
        {
          "output_type": "stream",
          "name": "stdout",
          "text": [
            "B\n",
            "b\n",
            "b..*..a\n",
            "A\n",
            "A..*..H\n",
            "h\n",
            "h..*..u\n",
            "U\n",
            "U..*..B\n",
            "b\n",
            "b..*..a\n",
            "A\n",
            "A..*..L\n",
            "l\n",
            "l..*..i\n",
            "I\n",
            "I..*.."
          ]
        }
      ]
    },
    {
      "cell_type": "code",
      "source": [
        "for i in range(1,101):\n",
        "  if i%2==0:\n",
        "    print(\"even number:\",i)\n",
        "  else:\n",
        "    print(\"odd number:\",i)"
      ],
      "metadata": {
        "colab": {
          "base_uri": "https://localhost:8080/"
        },
        "id": "5U4sRXiG_0f-",
        "outputId": "8ceda11f-0400-4d55-8db9-e57a8d18abf8"
      },
      "execution_count": 21,
      "outputs": [
        {
          "output_type": "stream",
          "name": "stdout",
          "text": [
            "odd number: 1\n",
            "even number: 2\n",
            "odd number: 3\n",
            "even number: 4\n",
            "odd number: 5\n",
            "even number: 6\n",
            "odd number: 7\n",
            "even number: 8\n",
            "odd number: 9\n",
            "even number: 10\n",
            "odd number: 11\n",
            "even number: 12\n",
            "odd number: 13\n",
            "even number: 14\n",
            "odd number: 15\n",
            "even number: 16\n",
            "odd number: 17\n",
            "even number: 18\n",
            "odd number: 19\n",
            "even number: 20\n",
            "odd number: 21\n",
            "even number: 22\n",
            "odd number: 23\n",
            "even number: 24\n",
            "odd number: 25\n",
            "even number: 26\n",
            "odd number: 27\n",
            "even number: 28\n",
            "odd number: 29\n",
            "even number: 30\n",
            "odd number: 31\n",
            "even number: 32\n",
            "odd number: 33\n",
            "even number: 34\n",
            "odd number: 35\n",
            "even number: 36\n",
            "odd number: 37\n",
            "even number: 38\n",
            "odd number: 39\n",
            "even number: 40\n",
            "odd number: 41\n",
            "even number: 42\n",
            "odd number: 43\n",
            "even number: 44\n",
            "odd number: 45\n",
            "even number: 46\n",
            "odd number: 47\n",
            "even number: 48\n",
            "odd number: 49\n",
            "even number: 50\n",
            "odd number: 51\n",
            "even number: 52\n",
            "odd number: 53\n",
            "even number: 54\n",
            "odd number: 55\n",
            "even number: 56\n",
            "odd number: 57\n",
            "even number: 58\n",
            "odd number: 59\n",
            "even number: 60\n",
            "odd number: 61\n",
            "even number: 62\n",
            "odd number: 63\n",
            "even number: 64\n",
            "odd number: 65\n",
            "even number: 66\n",
            "odd number: 67\n",
            "even number: 68\n",
            "odd number: 69\n",
            "even number: 70\n",
            "odd number: 71\n",
            "even number: 72\n",
            "odd number: 73\n",
            "even number: 74\n",
            "odd number: 75\n",
            "even number: 76\n",
            "odd number: 77\n",
            "even number: 78\n",
            "odd number: 79\n",
            "even number: 80\n",
            "odd number: 81\n",
            "even number: 82\n",
            "odd number: 83\n",
            "even number: 84\n",
            "odd number: 85\n",
            "even number: 86\n",
            "odd number: 87\n",
            "even number: 88\n",
            "odd number: 89\n",
            "even number: 90\n",
            "odd number: 91\n",
            "even number: 92\n",
            "odd number: 93\n",
            "even number: 94\n",
            "odd number: 95\n",
            "even number: 96\n",
            "odd number: 97\n",
            "even number: 98\n",
            "odd number: 99\n",
            "even number: 100\n"
          ]
        }
      ]
    },
    {
      "cell_type": "code",
      "source": [
        "print(\"Even numbers:\")\n",
        "for i in range(1,11):\n",
        "  if i%2==0:\n",
        "    print(i, end=\" \")\n",
        "print(\" \")\n",
        "print(\"odd numbers:\")\n",
        "for i in range(1,11):\n",
        "  if i%2!=0:\n",
        "    print(i,end=\" \")"
      ],
      "metadata": {
        "colab": {
          "base_uri": "https://localhost:8080/"
        },
        "id": "blV65jA1AcX8",
        "outputId": "a456433a-1679-4f63-8718-b4e4625a2512"
      },
      "execution_count": 24,
      "outputs": [
        {
          "output_type": "stream",
          "name": "stdout",
          "text": [
            "Even numbers:\n",
            "2 4 6 8 10  \n",
            "odd numbers:\n",
            "1 3 5 7 9 "
          ]
        }
      ]
    },
    {
      "cell_type": "code",
      "source": [
        "for letter in \"data science\":\n",
        "  print(letter*4,end=\"    \")"
      ],
      "metadata": {
        "colab": {
          "base_uri": "https://localhost:8080/"
        },
        "id": "ujrNuBTRB6jG",
        "outputId": "acfebf26-7b34-419b-c2de-91aa1e2820e1"
      },
      "execution_count": 25,
      "outputs": [
        {
          "output_type": "stream",
          "name": "stdout",
          "text": [
            "dddd    aaaa    tttt    aaaa            ssss    cccc    iiii    eeee    nnnn    cccc    eeee    "
          ]
        }
      ]
    },
    {
      "cell_type": "code",
      "source": [
        "len(\"ubed\")"
      ],
      "metadata": {
        "colab": {
          "base_uri": "https://localhost:8080/"
        },
        "id": "N5uL8L43CJQ2",
        "outputId": "12cb2533-9101-44ce-94df-777515baf813"
      },
      "execution_count": 26,
      "outputs": [
        {
          "output_type": "execute_result",
          "data": {
            "text/plain": [
              "4"
            ]
          },
          "metadata": {},
          "execution_count": 26
        }
      ]
    },
    {
      "cell_type": "code",
      "source": [
        "len(\"spoorthi prasad\")"
      ],
      "metadata": {
        "colab": {
          "base_uri": "https://localhost:8080/"
        },
        "id": "eciDaYMGCMfY",
        "outputId": "1f3f7e46-98bf-4d42-ec6a-3f3d429c3629"
      },
      "execution_count": 27,
      "outputs": [
        {
          "output_type": "execute_result",
          "data": {
            "text/plain": [
              "15"
            ]
          },
          "metadata": {},
          "execution_count": 27
        }
      ]
    },
    {
      "cell_type": "code",
      "source": [
        "#Data Structures\n",
        "#LIST\n",
        "# they are mutable\n",
        "# they are created using square brackets[]\n",
        "marks=[23,56,78,56,89,97,65]\n",
        "print(marks)\n",
        "type(marks)"
      ],
      "metadata": {
        "colab": {
          "base_uri": "https://localhost:8080/"
        },
        "id": "pwBfJTyTCVuN",
        "outputId": "5b535fd1-ed36-477f-ecf2-88615e213c5f"
      },
      "execution_count": 31,
      "outputs": [
        {
          "output_type": "stream",
          "name": "stdout",
          "text": [
            "[23, 56, 78, 56, 89, 97, 65]\n"
          ]
        },
        {
          "output_type": "execute_result",
          "data": {
            "text/plain": [
              "list"
            ]
          },
          "metadata": {},
          "execution_count": 31
        }
      ]
    },
    {
      "cell_type": "code",
      "source": [
        "dir(list )"
      ],
      "metadata": {
        "colab": {
          "base_uri": "https://localhost:8080/"
        },
        "id": "e98woOaOIXR0",
        "outputId": "f30c2c0e-e6a1-4d2b-f13f-5cb1d5abfc4d"
      },
      "execution_count": 32,
      "outputs": [
        {
          "output_type": "execute_result",
          "data": {
            "text/plain": [
              "['__add__',\n",
              " '__class__',\n",
              " '__class_getitem__',\n",
              " '__contains__',\n",
              " '__delattr__',\n",
              " '__delitem__',\n",
              " '__dir__',\n",
              " '__doc__',\n",
              " '__eq__',\n",
              " '__format__',\n",
              " '__ge__',\n",
              " '__getattribute__',\n",
              " '__getitem__',\n",
              " '__gt__',\n",
              " '__hash__',\n",
              " '__iadd__',\n",
              " '__imul__',\n",
              " '__init__',\n",
              " '__init_subclass__',\n",
              " '__iter__',\n",
              " '__le__',\n",
              " '__len__',\n",
              " '__lt__',\n",
              " '__mul__',\n",
              " '__ne__',\n",
              " '__new__',\n",
              " '__reduce__',\n",
              " '__reduce_ex__',\n",
              " '__repr__',\n",
              " '__reversed__',\n",
              " '__rmul__',\n",
              " '__setattr__',\n",
              " '__setitem__',\n",
              " '__sizeof__',\n",
              " '__str__',\n",
              " '__subclasshook__',\n",
              " 'append',\n",
              " 'clear',\n",
              " 'copy',\n",
              " 'count',\n",
              " 'extend',\n",
              " 'index',\n",
              " 'insert',\n",
              " 'pop',\n",
              " 'remove',\n",
              " 'reverse',\n",
              " 'sort']"
            ]
          },
          "metadata": {},
          "execution_count": 32
        }
      ]
    },
    {
      "cell_type": "code",
      "source": [
        "len(marks)"
      ],
      "metadata": {
        "colab": {
          "base_uri": "https://localhost:8080/"
        },
        "id": "WCQXadsYIvH6",
        "outputId": "6f2fc846-32a2-4d48-bee6-a39e27e137ce"
      },
      "execution_count": 33,
      "outputs": [
        {
          "output_type": "execute_result",
          "data": {
            "text/plain": [
              "7"
            ]
          },
          "metadata": {},
          "execution_count": 33
        }
      ]
    },
    {
      "cell_type": "code",
      "source": [
        "new_marks=sorted(marks)\n",
        "new_marks"
      ],
      "metadata": {
        "colab": {
          "base_uri": "https://localhost:8080/"
        },
        "id": "P1pRT-HpI1kj",
        "outputId": "ad1530a8-7cb2-469c-faed-56947218c28e"
      },
      "execution_count": 36,
      "outputs": [
        {
          "output_type": "execute_result",
          "data": {
            "text/plain": [
              "[23, 56, 56, 65, 78, 89, 97]"
            ]
          },
          "metadata": {},
          "execution_count": 36
        }
      ]
    },
    {
      "cell_type": "code",
      "source": [
        "marks"
      ],
      "metadata": {
        "colab": {
          "base_uri": "https://localhost:8080/"
        },
        "id": "E9nsyBDyJtlT",
        "outputId": "bef446f1-f9ae-484e-867b-aba7b902ec20"
      },
      "execution_count": 37,
      "outputs": [
        {
          "output_type": "execute_result",
          "data": {
            "text/plain": [
              "[23, 56, 78, 56, 89, 97, 65]"
            ]
          },
          "metadata": {},
          "execution_count": 37
        }
      ]
    },
    {
      "cell_type": "code",
      "source": [
        "marks.sort()\n",
        "marks"
      ],
      "metadata": {
        "colab": {
          "base_uri": "https://localhost:8080/"
        },
        "id": "9EbA8UUAJwWK",
        "outputId": "d963970c-6b99-4b96-d76c-f1c4a5705f81"
      },
      "execution_count": 40,
      "outputs": [
        {
          "output_type": "execute_result",
          "data": {
            "text/plain": [
              "[23, 56, 56, 65, 78, 89, 97]"
            ]
          },
          "metadata": {},
          "execution_count": 40
        }
      ]
    },
    {
      "cell_type": "code",
      "source": [
        "marks.sort(reverse=True)"
      ],
      "metadata": {
        "id": "uZZAPtYrK7au"
      },
      "execution_count": 47,
      "outputs": []
    },
    {
      "cell_type": "code",
      "source": [
        "marks"
      ],
      "metadata": {
        "colab": {
          "base_uri": "https://localhost:8080/"
        },
        "id": "24H29bkxLA7u",
        "outputId": "ad2bc964-657c-4899-90b7-671fe11a6433"
      },
      "execution_count": 48,
      "outputs": [
        {
          "output_type": "execute_result",
          "data": {
            "text/plain": [
              "[97, 89, 78, 78, 65, 56, 56, 23]"
            ]
          },
          "metadata": {},
          "execution_count": 48
        }
      ]
    },
    {
      "cell_type": "code",
      "source": [
        "name=\"Ubed\"\n",
        "sorted(name)"
      ],
      "metadata": {
        "colab": {
          "base_uri": "https://localhost:8080/"
        },
        "id": "Z-pBiNU0KG-g",
        "outputId": "12ff7162-d332-4f71-d493-1900e53fca69"
      },
      "execution_count": 41,
      "outputs": [
        {
          "output_type": "execute_result",
          "data": {
            "text/plain": [
              "['U', 'b', 'd', 'e']"
            ]
          },
          "metadata": {},
          "execution_count": 41
        }
      ]
    },
    {
      "cell_type": "code",
      "source": [
        "marks.append(78)# append will add element in thelast only\n",
        "marks\n"
      ],
      "metadata": {
        "colab": {
          "base_uri": "https://localhost:8080/"
        },
        "id": "C7CafNM1KOCK",
        "outputId": "773fdbd9-48cb-461e-c0ad-b69b725a4927"
      },
      "execution_count": 49,
      "outputs": [
        {
          "output_type": "execute_result",
          "data": {
            "text/plain": [
              "[97, 89, 78, 78, 65, 56, 56, 23, 78]"
            ]
          },
          "metadata": {},
          "execution_count": 49
        }
      ]
    },
    {
      "cell_type": "code",
      "source": [
        "marks.reverse()\n",
        "marks"
      ],
      "metadata": {
        "colab": {
          "base_uri": "https://localhost:8080/"
        },
        "id": "zOBGcjlnKlvT",
        "outputId": "ea18244d-18f4-4c59-ab3f-ce70d7f69e44"
      },
      "execution_count": 50,
      "outputs": [
        {
          "output_type": "execute_result",
          "data": {
            "text/plain": [
              "[78, 23, 56, 56, 65, 78, 78, 89, 97]"
            ]
          },
          "metadata": {},
          "execution_count": 50
        }
      ]
    },
    {
      "cell_type": "code",
      "source": [
        "marks.insert(4,77)#inserting 77 at 4th index\n",
        "marks"
      ],
      "metadata": {
        "colab": {
          "base_uri": "https://localhost:8080/"
        },
        "id": "EVtA1W_cLKXA",
        "outputId": "a53d57e8-98ec-4a4e-a609-7a7c40c1e632"
      },
      "execution_count": 51,
      "outputs": [
        {
          "output_type": "execute_result",
          "data": {
            "text/plain": [
              "[78, 23, 56, 56, 77, 65, 78, 78, 89, 97]"
            ]
          },
          "metadata": {},
          "execution_count": 51
        }
      ]
    },
    {
      "cell_type": "code",
      "source": [
        "90 in marks #checking 90 is present in  the marks"
      ],
      "metadata": {
        "colab": {
          "base_uri": "https://localhost:8080/"
        },
        "id": "IYXIGwH7LrnT",
        "outputId": "3864e3df-14c2-4d6d-866f-21a4d231fac0"
      },
      "execution_count": 52,
      "outputs": [
        {
          "output_type": "execute_result",
          "data": {
            "text/plain": [
              "False"
            ]
          },
          "metadata": {},
          "execution_count": 52
        }
      ]
    },
    {
      "cell_type": "code",
      "source": [
        "77 in marks"
      ],
      "metadata": {
        "colab": {
          "base_uri": "https://localhost:8080/"
        },
        "id": "Cj4TnQTjLzxQ",
        "outputId": "d9144879-b46b-4467-ae0d-87656df9618e"
      },
      "execution_count": 53,
      "outputs": [
        {
          "output_type": "execute_result",
          "data": {
            "text/plain": [
              "True"
            ]
          },
          "metadata": {},
          "execution_count": 53
        }
      ]
    },
    {
      "cell_type": "code",
      "source": [
        "list1=[12,45,67,78]\n",
        "list2=[33,56,45,76]\n",
        "list1+list2 # concatenation of 2 cells\n"
      ],
      "metadata": {
        "colab": {
          "base_uri": "https://localhost:8080/"
        },
        "id": "-SGl5pkXMCiS",
        "outputId": "5364e41c-3a46-446d-adad-1ab2f604d4f7"
      },
      "execution_count": 54,
      "outputs": [
        {
          "output_type": "execute_result",
          "data": {
            "text/plain": [
              "[12, 45, 67, 78, 33, 56, 45, 76]"
            ]
          },
          "metadata": {},
          "execution_count": 54
        }
      ]
    },
    {
      "cell_type": "code",
      "source": [
        "(list1+list2)*3"
      ],
      "metadata": {
        "colab": {
          "base_uri": "https://localhost:8080/"
        },
        "id": "der8bOCqMXyi",
        "outputId": "b45cef53-6f49-49ed-ee1a-be7f50e0f0a3"
      },
      "execution_count": 55,
      "outputs": [
        {
          "output_type": "execute_result",
          "data": {
            "text/plain": [
              "[12,\n",
              " 45,\n",
              " 67,\n",
              " 78,\n",
              " 33,\n",
              " 56,\n",
              " 45,\n",
              " 76,\n",
              " 12,\n",
              " 45,\n",
              " 67,\n",
              " 78,\n",
              " 33,\n",
              " 56,\n",
              " 45,\n",
              " 76,\n",
              " 12,\n",
              " 45,\n",
              " 67,\n",
              " 78,\n",
              " 33,\n",
              " 56,\n",
              " 45,\n",
              " 76]"
            ]
          },
          "metadata": {},
          "execution_count": 55
        }
      ]
    },
    {
      "cell_type": "code",
      "source": [
        "  stationary=[\"pen\",\"pencil\",\"sharpner\"]\n",
        "  print(stationary)\n",
        "  len(stationary)\n"
      ],
      "metadata": {
        "colab": {
          "base_uri": "https://localhost:8080/"
        },
        "id": "0lH8pqcFMjBh",
        "outputId": "681e6808-ee63-4dda-93e9-cc8126f6c993"
      },
      "execution_count": 57,
      "outputs": [
        {
          "output_type": "stream",
          "name": "stdout",
          "text": [
            "['pen', 'pencil', 'sharpner']\n"
          ]
        },
        {
          "output_type": "execute_result",
          "data": {
            "text/plain": [
              "3"
            ]
          },
          "metadata": {},
          "execution_count": 57
        }
      ]
    },
    {
      "cell_type": "code",
      "source": [
        "stationary.append([\"notebook\",\"book\"])# only 1 list element will be added\n",
        "print(stationary)\n",
        "len(stationary)"
      ],
      "metadata": {
        "colab": {
          "base_uri": "https://localhost:8080/"
        },
        "id": "7mlwWQArNOxI",
        "outputId": "3fc17d6d-9386-4035-f3ed-fe9f20b33328"
      },
      "execution_count": 60,
      "outputs": [
        {
          "output_type": "stream",
          "name": "stdout",
          "text": [
            "['pen', 'pencil', 'sharpner', ['notebook', 'book'], ['notebook', 'book'], ['notebook', 'book']]\n"
          ]
        },
        {
          "output_type": "execute_result",
          "data": {
            "text/plain": [
              "6"
            ]
          },
          "metadata": {},
          "execution_count": 60
        }
      ]
    },
    {
      "cell_type": "code",
      "source": [
        "\n",
        "stationary.pop()# if index no is not mentioned pop() removes the last element\n",
        "stationary"
      ],
      "metadata": {
        "colab": {
          "base_uri": "https://localhost:8080/"
        },
        "id": "QcuA8BMaNroq",
        "outputId": "35f499d2-481c-4471-981d-d5032699ddcb"
      },
      "execution_count": 66,
      "outputs": [
        {
          "output_type": "execute_result",
          "data": {
            "text/plain": [
              "['pen']"
            ]
          },
          "metadata": {},
          "execution_count": 66
        }
      ]
    },
    {
      "cell_type": "code",
      "source": [
        "#to add multiple items to the list we use extend()\n",
        "stationary.extend([\"pencil\",\"sharpner\",\"writing pad\",\"notepad\"])\n",
        "print(stationary)\n",
        "len(stationary)"
      ],
      "metadata": {
        "colab": {
          "base_uri": "https://localhost:8080/"
        },
        "id": "4mdl1RUvOS1b",
        "outputId": "d8b1ad60-0ec0-4fed-9a46-532e51df3528"
      },
      "execution_count": 68,
      "outputs": [
        {
          "output_type": "stream",
          "name": "stdout",
          "text": [
            "['pen', 'pencil', 'sharpner', 'writing pad', 'notepad', 'pencil', 'sharpner', 'writing pad', 'notepad']\n"
          ]
        },
        {
          "output_type": "execute_result",
          "data": {
            "text/plain": [
              "9"
            ]
          },
          "metadata": {},
          "execution_count": 68
        }
      ]
    },
    {
      "cell_type": "code",
      "source": [
        "stationary.remove(\"notepad\")# will remove the mentioned element\n",
        "stationary"
      ],
      "metadata": {
        "colab": {
          "base_uri": "https://localhost:8080/"
        },
        "id": "R4OW-XU7O-Op",
        "outputId": "34238565-72c2-4392-a963-4d9199212e4f"
      },
      "execution_count": 70,
      "outputs": [
        {
          "output_type": "execute_result",
          "data": {
            "text/plain": [
              "['pen',\n",
              " 'pencil',\n",
              " 'sharpner',\n",
              " 'writing pad',\n",
              " 'pencil',\n",
              " 'sharpner',\n",
              " 'writing pad']"
            ]
          },
          "metadata": {},
          "execution_count": 70
        }
      ]
    },
    {
      "cell_type": "code",
      "source": [
        "stationary.index(\"pencil\")"
      ],
      "metadata": {
        "colab": {
          "base_uri": "https://localhost:8080/"
        },
        "id": "gVUOU-HYPRvG",
        "outputId": "edf3f09e-32b5-4510-b274-c979b6bc87d1"
      },
      "execution_count": 72,
      "outputs": [
        {
          "output_type": "execute_result",
          "data": {
            "text/plain": [
              "1"
            ]
          },
          "metadata": {},
          "execution_count": 72
        }
      ]
    },
    {
      "cell_type": "code",
      "source": [
        "mrklist=[45,55,25,63,89,57,89]\n",
        "for marks in mrklist:\n",
        "  if marks>=80:\n",
        "    print(marks,\"--> Distinction\")\n",
        "  elif marks>=60:\n",
        "    print(marks,\"--> first class\")\n",
        "  elif marks>=35:\n",
        "    print(marks,\"--> just pass\")\n",
        "  else:\n",
        "    print(marks,\"--> Fail\")\n"
      ],
      "metadata": {
        "colab": {
          "base_uri": "https://localhost:8080/"
        },
        "id": "FmsC0rCMSYmU",
        "outputId": "08a8f1a8-39c7-415e-f8e1-5ac5fd04a682"
      },
      "execution_count": 80,
      "outputs": [
        {
          "output_type": "stream",
          "name": "stdout",
          "text": [
            "45 --> just pass\n",
            "55 --> just pass\n",
            "25 --> Fail\n",
            "63 --> first class\n",
            "89 --> Distinction\n",
            "57 --> just pass\n",
            "89 --> Distinction\n"
          ]
        }
      ]
    },
    {
      "cell_type": "code",
      "source": [
        "# WHILE LOOP\n",
        "cnt=0\n",
        "while cnt<5:\n",
        "  print(\"hello world\")\n",
        "  cnt+=1"
      ],
      "metadata": {
        "colab": {
          "base_uri": "https://localhost:8080/"
        },
        "id": "kuA2VK99TT6Y",
        "outputId": "273f34a2-6556-49ab-cc08-5a8625bc439f"
      },
      "execution_count": 81,
      "outputs": [
        {
          "output_type": "stream",
          "name": "stdout",
          "text": [
            "hello world\n",
            "hello world\n",
            "hello world\n",
            "hello world\n",
            "hello world\n"
          ]
        }
      ]
    },
    {
      "cell_type": "code",
      "source": [
        "#user defined function\n",
        "\n",
        "def square(x):\n",
        "  return x*x\n",
        "square(5)"
      ],
      "metadata": {
        "colab": {
          "base_uri": "https://localhost:8080/"
        },
        "id": "5whv0996T0Ze",
        "outputId": "705f2486-4813-4c4d-b652-71398ba0cfb4"
      },
      "execution_count": 83,
      "outputs": [
        {
          "output_type": "execute_result",
          "data": {
            "text/plain": [
              "25"
            ]
          },
          "metadata": {},
          "execution_count": 83
        }
      ]
    },
    {
      "cell_type": "code",
      "source": [
        "def grades(marks):\n",
        "  if marks>=80:\n",
        "    print(marks,\"--> Distinction\")\n",
        "  elif marks>=60:\n",
        "    print(marks,\"--> first class\")\n",
        "  elif marks>=35:\n",
        "    print(marks,\"--> just pass\")\n",
        "  else:\n",
        "    print(marks,\"--> Fail\")\n"
      ],
      "metadata": {
        "id": "fmOgiQ01U3Rp"
      },
      "execution_count": 84,
      "outputs": []
    },
    {
      "cell_type": "code",
      "source": [
        "grades(78)"
      ],
      "metadata": {
        "colab": {
          "base_uri": "https://localhost:8080/"
        },
        "id": "F31jn8opVFKJ",
        "outputId": "7128988b-cd3b-4fb5-e51c-9d1f249081f1"
      },
      "execution_count": 85,
      "outputs": [
        {
          "output_type": "stream",
          "name": "stdout",
          "text": [
            "78 --> first class\n"
          ]
        }
      ]
    },
    {
      "cell_type": "code",
      "source": [
        "list3=['apple','banana','mango','cherry','pineapple']\n",
        "for fruit in list3:\n",
        "  print(fruit.upper(),end=\" \")"
      ],
      "metadata": {
        "colab": {
          "base_uri": "https://localhost:8080/"
        },
        "id": "EN1wpztQVPy5",
        "outputId": "589bc404-3f1a-4b91-e25b-faf79d295925"
      },
      "execution_count": 86,
      "outputs": [
        {
          "output_type": "stream",
          "name": "stdout",
          "text": [
            "APPLE BANANA MANGO CHERRY PINEAPPLE "
          ]
        }
      ]
    },
    {
      "cell_type": "code",
      "source": [
        "list3[4]"
      ],
      "metadata": {
        "colab": {
          "base_uri": "https://localhost:8080/",
          "height": 36
        },
        "id": "1aEwebUTV-vY",
        "outputId": "1a789e4e-2fa9-4a03-8e1f-1a50814271a5"
      },
      "execution_count": 87,
      "outputs": [
        {
          "output_type": "execute_result",
          "data": {
            "text/plain": [
              "'pineapple'"
            ],
            "application/vnd.google.colaboratory.intrinsic+json": {
              "type": "string"
            }
          },
          "metadata": {},
          "execution_count": 87
        }
      ]
    }
  ]
}